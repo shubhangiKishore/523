{
  "nbformat": 4,
  "nbformat_minor": 0,
  "metadata": {
    "colab": {
      "name": "generate_missing_data.ipynb",
      "provenance": []
    },
    "kernelspec": {
      "name": "python3",
      "display_name": "Python 3"
    }
  },
  "cells": [
    {
      "cell_type": "markdown",
      "metadata": {
        "id": "dxD9ckIecoQs",
        "colab_type": "text"
      },
      "source": [
        "INSTALLATIONS"
      ]
    },
    {
      "cell_type": "code",
      "metadata": {
        "id": "8hBnPa85cp61",
        "colab_type": "code",
        "colab": {
          "base_uri": "https://localhost:8080/",
          "height": 34
        },
        "outputId": "fecc1f7b-078c-4ba7-bd54-bdbd00811576"
      },
      "source": [
        "!pip3 install utils"
      ],
      "execution_count": 16,
      "outputs": [
        {
          "output_type": "stream",
          "text": [
            "Requirement already satisfied: utils in /usr/local/lib/python3.6/dist-packages (1.0.1)\n"
          ],
          "name": "stdout"
        }
      ]
    },
    {
      "cell_type": "code",
      "metadata": {
        "id": "sBhpGZ5Unj98",
        "colab_type": "code",
        "colab": {
          "base_uri": "https://localhost:8080/",
          "height": 51
        },
        "outputId": "fd51e535-716e-4c77-9888-dbe9662025fd"
      },
      "source": [
        "!ls"
      ],
      "execution_count": 17,
      "outputs": [
        {
          "output_type": "stream",
          "text": [
            "breast.csv  GAN_imputation_toolkit.ipynb  letter.csv\n",
            "GAIN.ipynb  heart.csv\t\t\t  spam.csv\n"
          ],
          "name": "stdout"
        }
      ]
    },
    {
      "cell_type": "code",
      "metadata": {
        "id": "uLnaTtYjnkAX",
        "colab_type": "code",
        "colab": {
          "base_uri": "https://localhost:8080/",
          "height": 123
        },
        "outputId": "79b32040-564a-4dc4-8645-8beeb62414d2"
      },
      "source": [
        "from google.colab import drive\n",
        "drive.mount('/content/gdrive')"
      ],
      "execution_count": 5,
      "outputs": [
        {
          "output_type": "stream",
          "text": [
            "Go to this URL in a browser: https://accounts.google.com/o/oauth2/auth?client_id=947318989803-6bn6qk8qdgf4n4g3pfee6491hc0brc4i.apps.googleusercontent.com&redirect_uri=urn%3aietf%3awg%3aoauth%3a2.0%3aoob&response_type=code&scope=email%20https%3a%2f%2fwww.googleapis.com%2fauth%2fdocs.test%20https%3a%2f%2fwww.googleapis.com%2fauth%2fdrive%20https%3a%2f%2fwww.googleapis.com%2fauth%2fdrive.photos.readonly%20https%3a%2f%2fwww.googleapis.com%2fauth%2fpeopleapi.readonly\n",
            "\n",
            "Enter your authorization code:\n",
            "··········\n",
            "Mounted at /content/gdrive\n"
          ],
          "name": "stdout"
        }
      ]
    },
    {
      "cell_type": "code",
      "metadata": {
        "id": "kZQv8nXVoPXE",
        "colab_type": "code",
        "colab": {
          "base_uri": "https://localhost:8080/",
          "height": 34
        },
        "outputId": "b2e59bf3-e54e-4a05-face-e1fb38b3e8cd"
      },
      "source": [
        "cd 'gdrive/My Drive/523'"
      ],
      "execution_count": 6,
      "outputs": [
        {
          "output_type": "stream",
          "text": [
            "/content/gdrive/My Drive/523\n"
          ],
          "name": "stdout"
        }
      ]
    },
    {
      "cell_type": "markdown",
      "metadata": {
        "id": "AOLy4jifctZC",
        "colab_type": "text"
      },
      "source": [
        "IMPORTS"
      ]
    },
    {
      "cell_type": "code",
      "metadata": {
        "id": "jv1S0xLecsWj",
        "colab_type": "code",
        "colab": {}
      },
      "source": [
        "import numpy as np\n",
        "import tensorflow.compat.v1 as tf\n",
        "tf.disable_v2_behavior()\n",
        "from tqdm import tqdm\n",
        "from os import sys, path \n",
        "import pandas as pd"
      ],
      "execution_count": 0,
      "outputs": []
    },
    {
      "cell_type": "code",
      "metadata": {
        "id": "ErCwmQfdq5T1",
        "colab_type": "code",
        "colab": {}
      },
      "source": [
        "def binary_sampler(p, rows, cols):\n",
        "  '''Sample binary random variables.\n",
        "  \n",
        "  Args:\n",
        "    - p: probability of 1\n",
        "    - rows: the number of rows\n",
        "    - cols: the number of columns\n",
        "    \n",
        "  Returns:\n",
        "    - binary_random_matrix: generated binary random matrix.\n",
        "  '''\n",
        "  unif_random_matrix = np.random.uniform(0., 1., size = [rows, cols])\n",
        "  binary_random_matrix = 1*(unif_random_matrix < p)\n",
        "  return binary_random_matrix\n",
        "\n",
        "def data_loader (data_name, miss_rate):\n",
        "  \n",
        "  # Load data\n",
        "  if data_name in ['letter', 'spam','heart', 'breast']:\n",
        "    file_name = data_name+'.csv'\n",
        "    if data_name == 'breast':\n",
        "        data_x = np.loadtxt('cancer.csv', delimiter=',')\n",
        "    else:\n",
        "        data_x = np.loadtxt(file_name, delimiter=\",\", skiprows=1)\n",
        " \n",
        "  # Parameters\n",
        "  no, dim = data_x.shape\n",
        "  \n",
        "  # Introduce missing data\n",
        "  data_m = binary_sampler(1-miss_rate, no, dim)\n",
        "  miss_data_x = data_x.copy()\n",
        "  miss_data_x[data_m == 0] = np.nan\n",
        "      \n",
        "  return data_x, miss_data_x, data_m"
      ],
      "execution_count": 0,
      "outputs": []
    },
    {
      "cell_type": "code",
      "metadata": {
        "id": "HPI-UQvQ0DoB",
        "colab_type": "code",
        "colab": {}
      },
      "source": [
        "missing_percentage = 0.01"
      ],
      "execution_count": 0,
      "outputs": []
    },
    {
      "cell_type": "code",
      "metadata": {
        "id": "xA8ByPZfcyXL",
        "colab_type": "code",
        "colab": {}
      },
      "source": [
        "data_x_heart, miss_data_x_heart, data_m_heart = data_loader(\"heart\", missing_percentage)\n",
        "data_x_spam, miss_data_x_spam, data_m_spam = data_loader(\"spam\", missing_percenatge)\n",
        "data_x_letter, miss_data_x_letter, data_m_letter = data_loader(\"letter\", missing_percentage)\n",
        "data_x_breast, miss_data_x_breast, data_m_breast = data_loader(\"breast\", missing_percenatge)"
      ],
      "execution_count": 0,
      "outputs": []
    },
    {
      "cell_type": "markdown",
      "metadata": {
        "id": "EmIGhT1xt9Af",
        "colab_type": "text"
      },
      "source": [
        "Save as CSVs"
      ]
    },
    {
      "cell_type": "code",
      "metadata": {
        "id": "DfGrv3Swt8R1",
        "colab_type": "code",
        "colab": {}
      },
      "source": [
        ""
      ],
      "execution_count": 0,
      "outputs": []
    }
  ]
}
