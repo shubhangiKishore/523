{
  "nbformat": 4,
  "nbformat_minor": 0,
  "metadata": {
    "kernelspec": {
      "display_name": "Python 3",
      "language": "python",
      "name": "python3"
    },
    "language_info": {
      "codemirror_mode": {
        "name": "ipython",
        "version": 3
      },
      "file_extension": ".py",
      "mimetype": "text/x-python",
      "name": "python",
      "nbconvert_exporter": "python",
      "pygments_lexer": "ipython3",
      "version": "3.6.2"
    },
    "colab": {
      "name": "Imputation_toolkit.ipynb",
      "provenance": [],
      "collapsed_sections": []
    }
  },
  "cells": [
    {
      "cell_type": "markdown",
      "metadata": {
        "id": "PMtez-c6BN9n",
        "colab_type": "text"
      },
      "source": [
        ""
      ]
    },
    {
      "cell_type": "code",
      "metadata": {
        "id": "w8ezB2tG9PUh",
        "colab_type": "code",
        "colab": {
          "base_uri": "https://localhost:8080/",
          "height": 34
        },
        "outputId": "74e25085-93aa-45c2-842c-0d09542e52ff"
      },
      "source": [
        "!ls"
      ],
      "execution_count": 16,
      "outputs": [
        {
          "output_type": "stream",
          "text": [
            "ls: cannot access '/data': No such file or directory\n"
          ],
          "name": "stdout"
        }
      ]
    },
    {
      "cell_type": "code",
      "metadata": {
        "id": "AXSTqvgY9PRF",
        "colab_type": "code",
        "colab": {
          "base_uri": "https://localhost:8080/",
          "height": 123
        },
        "outputId": "c827f8b9-9572-4d02-ad0c-b2a1f3b22425"
      },
      "source": [
        "from google.colab import drive\n",
        "drive.mount('/content/gdrive')"
      ],
      "execution_count": 3,
      "outputs": [
        {
          "output_type": "stream",
          "text": [
            "Go to this URL in a browser: https://accounts.google.com/o/oauth2/auth?client_id=947318989803-6bn6qk8qdgf4n4g3pfee6491hc0brc4i.apps.googleusercontent.com&redirect_uri=urn%3aietf%3awg%3aoauth%3a2.0%3aoob&response_type=code&scope=email%20https%3a%2f%2fwww.googleapis.com%2fauth%2fdocs.test%20https%3a%2f%2fwww.googleapis.com%2fauth%2fdrive%20https%3a%2f%2fwww.googleapis.com%2fauth%2fdrive.photos.readonly%20https%3a%2f%2fwww.googleapis.com%2fauth%2fpeopleapi.readonly\n",
            "\n",
            "Enter your authorization code:\n",
            "··········\n",
            "Mounted at /content/gdrive\n"
          ],
          "name": "stdout"
        }
      ]
    },
    {
      "cell_type": "code",
      "metadata": {
        "id": "v0hkzs8b9PO-",
        "colab_type": "code",
        "colab": {
          "base_uri": "https://localhost:8080/",
          "height": 34
        },
        "outputId": "b41fd24f-d4f2-46ba-b255-66f5681fda06"
      },
      "source": [
        "cd 'gdrive/My Drive/523'"
      ],
      "execution_count": 4,
      "outputs": [
        {
          "output_type": "stream",
          "text": [
            "/content/gdrive/My Drive/523\n"
          ],
          "name": "stdout"
        }
      ]
    },
    {
      "cell_type": "markdown",
      "metadata": {
        "id": "-TCSqi4M9Sb2",
        "colab_type": "text"
      },
      "source": [
        "Import Statements"
      ]
    },
    {
      "cell_type": "code",
      "metadata": {
        "id": "REnUHhfXBN9v",
        "colab_type": "code",
        "colab": {}
      },
      "source": [
        "import numpy as np\n",
        "import tensorflow.compat.v1 as tf\n",
        "tf.disable_v2_behavior()\n",
        "from tqdm import tqdm\n",
        "from os import sys, path \n",
        "import pandas as pd"
      ],
      "execution_count": 0,
      "outputs": []
    },
    {
      "cell_type": "markdown",
      "metadata": {
        "id": "1hnDgH5ZBN-B",
        "colab_type": "text"
      },
      "source": [
        "# Imputation using GAIN "
      ]
    },
    {
      "cell_type": "markdown",
      "metadata": {
        "id": "jCtuOf8LByag",
        "colab_type": "text"
      },
      "source": [
        "Created a wrapper around the GAIN implementation by the \n",
        "\n",
        "Authors: Jinsung Yoon, James Jordon, Mihaela van der Schaar\n",
        "Paper: Jinsung Yoon, James Jordon, Mihaela van der Schaar, \"GAIN: Missing Data Imputation using Generative Adversarial Nets,\" International Conference on Machine Learning (ICML), 2018.\n",
        "Paper Link: http://proceedings.mlr.press/v80/yoon18a/yoon18a.pdf\n",
        "https://github.com/jsyoon0823/GAIN"
      ]
    },
    {
      "cell_type": "markdown",
      "metadata": {
        "id": "9AvQeZYDBN-E",
        "colab_type": "text"
      },
      "source": [
        "Initialization for mini batch size, missing rate, hint rate, alpha and train rate"
      ]
    },
    {
      "cell_type": "code",
      "metadata": {
        "id": "5bjn8xpHBN-G",
        "colab_type": "code",
        "colab": {}
      },
      "source": [
        "\n",
        "class GAIN():\n",
        "    # defining hyperparameters \n",
        "    def __init__(self, minibatch_size, missing_vals_percent, p_hint, alpha, train_rate):\n",
        "        self.mb_size= minibatch_size\n",
        "        self.p_miss = missing_vals_percent\n",
        "        self.p_hint = p_hint\n",
        "        self.alpha = alpha\n",
        "        self.train_rate = train_rate\n",
        "        self.H_Dim1 = None\n",
        "        self.H_Dim2 = None\n",
        "        print('Initialised GAIN object')"
      ],
      "execution_count": 0,
      "outputs": []
    },
    {
      "cell_type": "markdown",
      "metadata": {
        "id": "EiU66MTYBN-V",
        "colab_type": "text"
      },
      "source": [
        "Functions for normalize, missingness introduction, train test split"
      ]
    },
    {
      "cell_type": "code",
      "metadata": {
        "id": "iuEe4vOhBN-X",
        "colab_type": "code",
        "colab": {}
      },
      "source": [
        "class GAIN(GAIN):\n",
        "    def normalize(self, data, dimension):\n",
        "            Min_Val = np.zeros(dimension)\n",
        "            Max_Val = np.zeros(dimension)\n",
        "            for i in range(dimension):\n",
        "                Min_Val[i] = np.min(data[:,i])\n",
        "                data[:,i] = data[:,i] - np.min(data[:,i])\n",
        "                Max_Val[i] = np.max(data[:,i])\n",
        "                data[:,i] = data[:,i] / (np.max(data[:,i]) + 1e-6)  \n",
        "            print('Norm Done')              \n",
        "            return data   \n",
        "    \n",
        "    def introduce_missingness(self, Dim, No, Data):\n",
        "            p_miss_vec = self.p_miss * np.ones((Dim,1))\n",
        "            Missing = np.zeros((No, Dim))\n",
        "            for i in range(Dim):\n",
        "                A = np.random.uniform(0., 1., size = [len(Data),])\n",
        "                B = A > p_miss_vec[i]\n",
        "                Missing[:,i] = 1.*B\n",
        "            print('Missing Done')\n",
        "            return Missing\n",
        "    \n",
        "    def train_test_split(self, No, Data, Missing):\n",
        "        idx = np.random.permutation(No)\n",
        "        Train_No = int(No * self.train_rate)\n",
        "        Test_No = No - Train_No\n",
        "        trainX = Data[idx[:Train_No],:]\n",
        "        testX = Data[idx[Train_No:],:]\n",
        "        trainM = Missing[idx[:Train_No],:]\n",
        "        testM = Missing[idx[Train_No:],:]\n",
        "        print('Train/Test Done')\n",
        "        return trainX, testX, trainM, testM, Train_No, Test_No"
      ],
      "execution_count": 0,
      "outputs": []
    },
    {
      "cell_type": "markdown",
      "metadata": {
        "id": "6WNmopN-BN-n",
        "colab_type": "text"
      },
      "source": [
        "Implementing gain architecture, generator, discriminator"
      ]
    },
    {
      "cell_type": "code",
      "metadata": {
        "id": "i0eOHahKBN-p",
        "colab_type": "code",
        "colab": {}
      },
      "source": [
        "class GAIN(GAIN):\n",
        "    def gain_architecture(self, Dim):\n",
        "            X = tf.placeholder(tf.float32, shape = [None, Dim])\n",
        "            M = tf.placeholder(tf.float32, shape = [None, Dim])\n",
        "            H = tf.placeholder(tf.float32, shape = [None, Dim])\n",
        "            New_X = tf.placeholder(tf.float32, shape = [None, Dim])\n",
        "            D_W1 = tf.Variable(self.xavier_init([Dim*2, self.H_Dim1]))     # Data + Hint as inputs\n",
        "            D_b1 = tf.Variable(tf.zeros(shape = [ self.H_Dim1]))\n",
        "            D_W2 = tf.Variable(self.xavier_init([self.H_Dim1, self.H_Dim2]))\n",
        "            D_b2 = tf.Variable(tf.zeros(shape = [self.H_Dim2]))\n",
        "            D_W3 = tf.Variable(self.xavier_init([self.H_Dim2, Dim]))\n",
        "            D_b3 = tf.Variable(tf.zeros(shape = [Dim]))       # Output is multi-variate\n",
        "            theta_D = [D_W1, D_W2, D_W3, D_b1, D_b2, D_b3]\n",
        "            G_W1 = tf.Variable(self.xavier_init([Dim*2, self.H_Dim1]))     # Data + Mask as inputs (Random Noises are in Missing Components)\n",
        "            G_b1 = tf.Variable(tf.zeros(shape = [self.H_Dim1]))\n",
        "            G_W2 = tf.Variable(self.xavier_init([self.H_Dim1, self.H_Dim2]))\n",
        "            G_b2 = tf.Variable(tf.zeros(shape = [self.H_Dim2]))\n",
        "            G_W3 = tf.Variable(self.xavier_init([self.H_Dim2, Dim]))\n",
        "            G_b3 = tf.Variable(tf.zeros(shape = [Dim]))\n",
        "            theta_G = [G_W1, G_W2, G_W3, G_b1, G_b2, G_b3]\n",
        "            print('Gain Arch Done')\n",
        "            return theta_D, theta_G, X, M, H, New_X\n",
        "    @staticmethod\n",
        "    def generator(new_x, m, G_W1, G_W2, G_W3, G_b1, G_b2, G_b3):\n",
        "        inputs = tf.concat(axis = 1, values = [new_x,m])  # Mask + Data Concatenate\n",
        "        G_h1 = tf.nn.relu(tf.matmul(inputs, G_W1) + G_b1)\n",
        "        G_h2 = tf.nn.relu(tf.matmul(G_h1, G_W2) + G_b2)   \n",
        "        G_prob = tf.nn.sigmoid(tf.matmul(G_h2, G_W3) + G_b3) # [0,1] normalized Output\n",
        "        print('Gen Samp Done')\n",
        "        return G_prob\n",
        "            \n",
        "    @staticmethod\n",
        "    def discriminator(new_x, h, D_W1, D_W2, D_W3, D_b1, D_b2, D_b3):\n",
        "        inputs = tf.concat(axis = 1, values = [new_x,h])  # Hint + Data Concatenate\n",
        "        D_h1 = tf.nn.relu(tf.matmul(inputs, D_W1) + D_b1)  \n",
        "        D_h2 = tf.nn.relu(tf.matmul(D_h1, D_W2) + D_b2)\n",
        "        D_logit = tf.matmul(D_h2, D_W3) + D_b3\n",
        "        D_prob = tf.nn.sigmoid(D_logit)  # [0,1] Probability Output\n",
        "        print('Disc Sample Done')\n",
        "        return D_prob"
      ],
      "execution_count": 0,
      "outputs": []
    },
    {
      "cell_type": "markdown",
      "metadata": {
        "id": "b-tvq-EsBN_F",
        "colab_type": "text"
      },
      "source": [
        " Preprocessing input data : normalize, load, get dimensions"
      ]
    },
    {
      "cell_type": "code",
      "metadata": {
        "id": "FHtBJ4TiBN_H",
        "colab_type": "code",
        "colab": {}
      },
      "source": [
        "class GAIN(GAIN):\n",
        "    def preprocess(self, inputData):\n",
        "            Data = np.loadtxt(inputData, delimiter=\",\",skiprows=1)\n",
        "            #Data = np.loadtxt(inputData, delimiter=\",\")\n",
        "            No = len(Data)\n",
        "            Dim = len(Data[0,:])\n",
        "            self.H_Dim1 = Dim\n",
        "            self.H_Dim2 = Dim\n",
        "            normalized_data = self.normalize(Data, Dim)\n",
        "            print('Preprocess Done')\n",
        "            return normalized_data, No, Dim"
      ],
      "execution_count": 0,
      "outputs": []
    },
    {
      "cell_type": "markdown",
      "metadata": {
        "id": "m6ETfMkpBN_U",
        "colab_type": "text"
      },
      "source": [
        "Static methods: xavier initialization, sample generation "
      ]
    },
    {
      "cell_type": "code",
      "metadata": {
        "id": "ylAfNRszBN_X",
        "colab_type": "code",
        "colab": {}
      },
      "source": [
        "class GAIN(GAIN):\n",
        "    @staticmethod\n",
        "    def xavier_init(size):\n",
        "        in_dim = size[0]\n",
        "        xavier_stddev = 1. / tf.sqrt(in_dim / 2.)\n",
        "        return tf.random_normal(shape = size, stddev = xavier_stddev)\n",
        "    @staticmethod\n",
        "    def sample_M(m, n, p):\n",
        "        A = np.random.uniform(0., 1., size = [m, n])\n",
        "        B = A > p\n",
        "        C = 1.*B\n",
        "        return C    \n",
        "    @staticmethod\n",
        "    def sample_Z(m, n):\n",
        "        return np.random.uniform(0., 0.01, size = [m, n])    \n",
        "    @staticmethod    \n",
        "    def sample_idx(m, n):\n",
        "         A = np.random.permutation(m)\n",
        "         idx = A[:n]\n",
        "         return idx"
      ],
      "execution_count": 0,
      "outputs": []
    },
    {
      "cell_type": "markdown",
      "metadata": {
        "id": "OsYnhwDhBN_j",
        "colab_type": "text"
      },
      "source": [
        "Train function"
      ]
    },
    {
      "cell_type": "code",
      "metadata": {
        "id": "1r-ksPKDBN_m",
        "colab_type": "code",
        "colab": {}
      },
      "source": [
        "\n",
        "class GAIN(GAIN):    \n",
        "    def train(self, normalized_data, No, Dim):\n",
        "        missing_matrix  = self.introduce_missingness(Dim, No, normalized_data)\n",
        "        trainX, testX, trainM, testM, Train_No, Test_No= self.train_test_split(No, normalized_data, missing_matrix)\n",
        "        theta_D, theta_G, X, M, H, New_X = self.gain_architecture(Dim)\n",
        "        G_sample = self.generator(New_X, M, theta_G[0],theta_G[1], theta_G[2], theta_G[3], theta_G[4], theta_G[5])\n",
        "        Hat_New_X = New_X * M + G_sample * (1-M)\n",
        "        D_prob = self.discriminator(Hat_New_X, H, theta_D[0], theta_D[1], theta_D[2], theta_D[3],theta_D[4],theta_D[5])\n",
        "        D_loss1 = -tf.reduce_mean(M * tf.log(D_prob + 1e-8) + (1-M) * tf.log(1. - D_prob + 1e-8)) \n",
        "        G_loss1 = -tf.reduce_mean((1-M) * tf.log(D_prob + 1e-8))\n",
        "        MSE_train_loss = tf.reduce_mean((M * New_X - M * G_sample)**2) / tf.reduce_mean(M)\n",
        "        D_loss = D_loss1\n",
        "        G_loss = G_loss1 + gain_obj.alpha * MSE_train_loss\n",
        "        MSE_test_loss = tf.reduce_mean(((1-M) * X - (1-M)*G_sample)**2) / tf.reduce_mean(1-M)\n",
        "        D_solver = tf.train.AdamOptimizer().minimize(D_loss, var_list=theta_D)\n",
        "        G_solver = tf.train.AdamOptimizer().minimize(G_loss, var_list=theta_G)\n",
        "        sess = tf.Session()\n",
        "        sess.run(tf.global_variables_initializer())\n",
        "        train_loss_1 = []\n",
        "        test_loss_1 = []\n",
        "        for it in tqdm(range(5000)):    \n",
        "            mb_idx = gain_obj.sample_idx(Train_No, gain_obj.mb_size)\n",
        "            X_mb = trainX[mb_idx,:]      \n",
        "            Z_mb = gain_obj.sample_Z(gain_obj.mb_size, Dim) \n",
        "            M_mb = trainM[mb_idx,:]  \n",
        "            H_mb1 = gain_obj.sample_M(gain_obj.mb_size, Dim, 1-gain_obj.p_hint)\n",
        "            H_mb = M_mb * H_mb1    \n",
        "            New_X_mb = M_mb * X_mb + (1-M_mb) * Z_mb  # Missing Data Introduce    \n",
        "            _, D_loss_curr = sess.run([D_solver, D_loss1], feed_dict = {M: M_mb, New_X: New_X_mb, H: H_mb})\n",
        "            _, G_loss_curr, MSE_train_loss_curr, MSE_test_loss_curr = sess.run([G_solver, G_loss1, MSE_train_loss, MSE_test_loss],\n",
        "                                                                           feed_dict = {X: X_mb, M: M_mb, New_X: New_X_mb, H: H_mb})\n",
        "            if it % 100 == 0:\n",
        "                print('Iter: {}'.format(it))\n",
        "                train_loss_1.append(np.sqrt(MSE_train_loss_curr))\n",
        "                test_loss_1.append(np.sqrt(MSE_test_loss_curr))\n",
        "                print('Train_loss: {:.4}'.format(np.sqrt(MSE_train_loss_curr)))\n",
        "                print('Test_loss: {:.4}'.format(np.sqrt(MSE_test_loss_curr)))\n",
        "                print()\n",
        "        return Test_No, testM, testX, MSE_test_loss, G_sample, sess, X, M, New_X, train_loss_1, test_loss_1"
      ],
      "execution_count": 0,
      "outputs": []
    },
    {
      "cell_type": "markdown",
      "metadata": {
        "id": "VGuB2fpHBN_v",
        "colab_type": "text"
      },
      "source": [
        "Test functions, impute, evaluate. [Evaluate results are provided in test]"
      ]
    },
    {
      "cell_type": "code",
      "metadata": {
        "id": "vBFl2ej4BN_x",
        "colab_type": "code",
        "colab": {}
      },
      "source": [
        "class GAIN(GAIN):\n",
        "    def test(self, Test_No, testM, testX, MSE_test_loss, G_sample, sess, X, M, New_X):\n",
        "        Z_mb = gain_obj.sample_Z(Test_No, Dim) \n",
        "        M_mb = testM\n",
        "        X_mb = testX\n",
        "        New_X_mb = M_mb * X_mb + (1-M_mb) * Z_mb  # Missing Data Introduce\n",
        "        MSE_final, Sample = sess.run([MSE_test_loss, G_sample], feed_dict = {X: testX, M: testM, New_X: New_X_mb})\n",
        "        print('Final Test RMSE: ' + str(np.sqrt(MSE_final)))\n",
        "        \n",
        "    def impute(self, trained_model, input):\n",
        "        pass\n",
        "    \n",
        "    def evaluate(self, trained_model, input):\n",
        "        pass"
      ],
      "execution_count": 0,
      "outputs": []
    },
    {
      "cell_type": "markdown",
      "metadata": {
        "id": "ai3Nkv9rBN_8",
        "colab_type": "text"
      },
      "source": [
        "# Main function to access GAIN, initial params, and with dataset in .csv"
      ]
    },
    {
      "cell_type": "markdown",
      "metadata": {
        "id": "CvAlqpd6AJO3",
        "colab_type": "text"
      },
      "source": [
        "## GAIN on Letter Dataset"
      ]
    },
    {
      "cell_type": "code",
      "metadata": {
        "id": "t1D2rnvg-7O6",
        "colab_type": "code",
        "colab": {}
      },
      "source": [
        "df_1 = pd.read_csv('/content/gdrive/My Drive/523/data/letter.csv')"
      ],
      "execution_count": 0,
      "outputs": []
    },
    {
      "cell_type": "code",
      "metadata": {
        "id": "jq7b5Gge_HVO",
        "colab_type": "code",
        "colab": {
          "base_uri": "https://localhost:8080/",
          "height": 202
        },
        "outputId": "54a9f76d-2c91-4101-f0d3-2632666635e8"
      },
      "source": [
        "df_1.head()"
      ],
      "execution_count": 76,
      "outputs": [
        {
          "output_type": "execute_result",
          "data": {
            "text/html": [
              "<div>\n",
              "<style scoped>\n",
              "    .dataframe tbody tr th:only-of-type {\n",
              "        vertical-align: middle;\n",
              "    }\n",
              "\n",
              "    .dataframe tbody tr th {\n",
              "        vertical-align: top;\n",
              "    }\n",
              "\n",
              "    .dataframe thead th {\n",
              "        text-align: right;\n",
              "    }\n",
              "</style>\n",
              "<table border=\"1\" class=\"dataframe\">\n",
              "  <thead>\n",
              "    <tr style=\"text-align: right;\">\n",
              "      <th></th>\n",
              "      <th>20</th>\n",
              "      <th>2</th>\n",
              "      <th>8</th>\n",
              "      <th>3</th>\n",
              "      <th>5</th>\n",
              "      <th>1</th>\n",
              "      <th>8.1</th>\n",
              "      <th>13</th>\n",
              "      <th>0</th>\n",
              "      <th>6</th>\n",
              "      <th>6.1</th>\n",
              "      <th>10</th>\n",
              "      <th>8.2</th>\n",
              "      <th>0.1</th>\n",
              "      <th>8.3</th>\n",
              "      <th>0.2</th>\n",
              "      <th>8.4</th>\n",
              "    </tr>\n",
              "  </thead>\n",
              "  <tbody>\n",
              "    <tr>\n",
              "      <th>0</th>\n",
              "      <td>9</td>\n",
              "      <td>5</td>\n",
              "      <td>12</td>\n",
              "      <td>3</td>\n",
              "      <td>7</td>\n",
              "      <td>2</td>\n",
              "      <td>10</td>\n",
              "      <td>5</td>\n",
              "      <td>5</td>\n",
              "      <td>4</td>\n",
              "      <td>13</td>\n",
              "      <td>3</td>\n",
              "      <td>9</td>\n",
              "      <td>2</td>\n",
              "      <td>8</td>\n",
              "      <td>4</td>\n",
              "      <td>10</td>\n",
              "    </tr>\n",
              "    <tr>\n",
              "      <th>1</th>\n",
              "      <td>4</td>\n",
              "      <td>4</td>\n",
              "      <td>11</td>\n",
              "      <td>6</td>\n",
              "      <td>8</td>\n",
              "      <td>6</td>\n",
              "      <td>10</td>\n",
              "      <td>6</td>\n",
              "      <td>2</td>\n",
              "      <td>6</td>\n",
              "      <td>10</td>\n",
              "      <td>3</td>\n",
              "      <td>7</td>\n",
              "      <td>3</td>\n",
              "      <td>7</td>\n",
              "      <td>3</td>\n",
              "      <td>9</td>\n",
              "    </tr>\n",
              "    <tr>\n",
              "      <th>2</th>\n",
              "      <td>14</td>\n",
              "      <td>7</td>\n",
              "      <td>11</td>\n",
              "      <td>6</td>\n",
              "      <td>6</td>\n",
              "      <td>3</td>\n",
              "      <td>5</td>\n",
              "      <td>9</td>\n",
              "      <td>4</td>\n",
              "      <td>6</td>\n",
              "      <td>4</td>\n",
              "      <td>4</td>\n",
              "      <td>10</td>\n",
              "      <td>6</td>\n",
              "      <td>10</td>\n",
              "      <td>2</td>\n",
              "      <td>8</td>\n",
              "    </tr>\n",
              "    <tr>\n",
              "      <th>3</th>\n",
              "      <td>7</td>\n",
              "      <td>2</td>\n",
              "      <td>1</td>\n",
              "      <td>3</td>\n",
              "      <td>1</td>\n",
              "      <td>1</td>\n",
              "      <td>8</td>\n",
              "      <td>6</td>\n",
              "      <td>6</td>\n",
              "      <td>6</td>\n",
              "      <td>6</td>\n",
              "      <td>5</td>\n",
              "      <td>9</td>\n",
              "      <td>1</td>\n",
              "      <td>7</td>\n",
              "      <td>5</td>\n",
              "      <td>10</td>\n",
              "    </tr>\n",
              "    <tr>\n",
              "      <th>4</th>\n",
              "      <td>19</td>\n",
              "      <td>4</td>\n",
              "      <td>11</td>\n",
              "      <td>5</td>\n",
              "      <td>8</td>\n",
              "      <td>3</td>\n",
              "      <td>8</td>\n",
              "      <td>8</td>\n",
              "      <td>6</td>\n",
              "      <td>9</td>\n",
              "      <td>5</td>\n",
              "      <td>6</td>\n",
              "      <td>6</td>\n",
              "      <td>0</td>\n",
              "      <td>8</td>\n",
              "      <td>9</td>\n",
              "      <td>7</td>\n",
              "    </tr>\n",
              "  </tbody>\n",
              "</table>\n",
              "</div>"
            ],
            "text/plain": [
              "   20  2   8  3  5  1  8.1  13  0  6  6.1  10  8.2  0.1  8.3  0.2  8.4\n",
              "0   9  5  12  3  7  2   10   5  5  4   13   3    9    2    8    4   10\n",
              "1   4  4  11  6  8  6   10   6  2  6   10   3    7    3    7    3    9\n",
              "2  14  7  11  6  6  3    5   9  4  6    4   4   10    6   10    2    8\n",
              "3   7  2   1  3  1  1    8   6  6  6    6   5    9    1    7    5   10\n",
              "4  19  4  11  5  8  3    8   8  6  9    5   6    6    0    8    9    7"
            ]
          },
          "metadata": {
            "tags": []
          },
          "execution_count": 76
        }
      ]
    },
    {
      "cell_type": "code",
      "metadata": {
        "id": "aWN-i0s5BN_-",
        "colab_type": "code",
        "colab": {
          "base_uri": "https://localhost:8080/",
          "height": 69
        },
        "outputId": "d0d93a33-a512-47e0-d1b6-b3c406eb3ee9"
      },
      "source": [
        "mini_batch_size = 128\n",
        "percentage_missing_values = 0.2\n",
        "hint_perc = 0.9\n",
        "alpha = 10\n",
        "train_rate = 0.8\n",
        "\n",
        "gain_obj = GAIN(mini_batch_size,percentage_missing_values, hint_perc,alpha, train_rate)\n",
        "normalized_data, No_rows, Dim_cols= gain_obj.preprocess('/content/gdrive/My Drive/523/data/letter.csv')"
      ],
      "execution_count": 77,
      "outputs": [
        {
          "output_type": "stream",
          "text": [
            "Initialised GAIN object\n",
            "Norm Done\n",
            "Preprocess Done\n"
          ],
          "name": "stdout"
        }
      ]
    },
    {
      "cell_type": "code",
      "metadata": {
        "id": "4ngVtB5w-1EF",
        "colab_type": "code",
        "colab": {}
      },
      "source": [
        "Test_No, testM, testX, MSE_test_loss, G_sample, sess, X, M, New_X, train_loss_1, test_loss_1 = gain_obj.train(normalized_data, No_rows, Dim_cols)\n"
      ],
      "execution_count": 0,
      "outputs": []
    },
    {
      "cell_type": "code",
      "metadata": {
        "id": "Skjl7DiFPs3Z",
        "colab_type": "code",
        "colab": {
          "base_uri": "https://localhost:8080/",
          "height": 355
        },
        "outputId": "1c3e19c6-138d-4a7e-81fd-4a56955599e1"
      },
      "source": [
        "# plotting the training loss\n",
        "plt.figure(figsize=(15,5))\n",
        "plt.subplot(1,2,1)\n",
        "plt.plot( [i * 100 for i in range(len(train_loss_1))],train_loss_1, label='Training loss')\n",
        "plt.title('Loss on the Training Set on Successive Epochs',size= 13)\n",
        "plt.legend()\n",
        "plt.xlabel('Epochs',size= 15)\n",
        "plt.ylabel('Loss',size=15)\n",
        "\n",
        "\n",
        "plt.plot([i * 100 for i in range(len(train_loss_1))],test_loss_1, label='Test loss')\n",
        "plt.title('Loss on the Test Set on Successive Epochs',size= 13)\n",
        "plt.legend()\n",
        "plt.xlabel('Epochs',size= 15)\n",
        "plt.ylabel('Loss',size=15)\n",
        "plt.show()"
      ],
      "execution_count": 91,
      "outputs": [
        {
          "output_type": "display_data",
          "data": {
            "image/png": "[encoded data removed]",
            "text/plain": [
              "<Figure size 1080x360 with 1 Axes>"
            ]
          },
          "metadata": {
            "tags": [],
            "needs_background": "light"
          }
        }
      ]
    },
    {
      "cell_type": "code",
      "metadata": {
        "id": "mPhDad3NU5-C",
        "colab_type": "code",
        "colab": {
          "base_uri": "https://localhost:8080/",
          "height": 34
        },
        "outputId": "b74be68c-7b4e-4a5e-8a1c-7cd485ed9b74"
      },
      "source": [
        "New_X"
      ],
      "execution_count": 92,
      "outputs": [
        {
          "output_type": "execute_result",
          "data": {
            "text/plain": [
              "<tf.Tensor 'Placeholder_23:0' shape=(?, 17) dtype=float32>"
            ]
          },
          "metadata": {
            "tags": []
          },
          "execution_count": 92
        }
      ]
    },
    {
      "cell_type": "code",
      "metadata": {
        "id": "lKq7WY37VQi0",
        "colab_type": "code",
        "colab": {
          "base_uri": "https://localhost:8080/",
          "height": 34
        },
        "outputId": "baf35c4a-c8cc-46dd-d649-2e2f59aa4e89"
      },
      "source": [
        "X"
      ],
      "execution_count": 93,
      "outputs": [
        {
          "output_type": "execute_result",
          "data": {
            "text/plain": [
              "<tf.Tensor 'Placeholder_20:0' shape=(?, 17) dtype=float32>"
            ]
          },
          "metadata": {
            "tags": []
          },
          "execution_count": 93
        }
      ]
    },
    {
      "cell_type": "code",
      "metadata": {
        "id": "jXTTUU_8N4f1",
        "colab_type": "code",
        "colab": {}
      },
      "source": [
        "a_tensor = New_X\n",
        "print(a_tensor)\n",
        "\n",
        "an_array = a_tensor.eval(session=tf.compat.v1.Session())"
      ],
      "execution_count": 0,
      "outputs": []
    },
    {
      "cell_type": "code",
      "metadata": {
        "id": "D8U9WW3NNyYk",
        "colab_type": "code",
        "colab": {
          "base_uri": "https://localhost:8080/",
          "height": 51
        },
        "outputId": "7464270a-7b90-4d9e-e688-38af08ec5265"
      },
      "source": [
        "print(an_array)"
      ],
      "execution_count": 64,
      "outputs": [
        {
          "output_type": "stream",
          "text": [
            "[[1 2 3]\n",
            " [4 5 6]]\n"
          ],
          "name": "stdout"
        }
      ]
    },
    {
      "cell_type": "code",
      "metadata": {
        "id": "92l8JHXNIdi4",
        "colab_type": "code",
        "colab": {}
      },
      "source": [
        "from sklearn.metrics import roc_auc_score\n",
        "from sklearn.metrics import roc_curve\n",
        "\n",
        "from sklearn import metrics\n",
        "def buildROC(target_test,test_preds):\n",
        "    fpr, tpr, threshold = metrics.roc_curve(target_test, test_preds)\n",
        "    roc_auc = metrics.auc(fpr, tpr)\n",
        "    plt.title('Receiver Operating Characteristic')\n",
        "    plt.plot(fpr, tpr, 'b', label = 'AUC = %0.2f' % roc_auc)\n",
        "    plt.legend(loc = 'lower right')\n",
        "    plt.plot([0, 1], [0, 1],'r--')\n",
        "    plt.ylabel('True Positive Rate')\n",
        "    plt.xlabel('False Positive Rate')\n",
        "    plt.gcf().savefig('roc.png')\n",
        "    \n",
        "buildROC(y_test,ypred)"
      ],
      "execution_count": 0,
      "outputs": []
    },
    {
      "cell_type": "code",
      "metadata": {
        "id": "okygqU0a9Ndu",
        "colab_type": "code",
        "colab": {
          "base_uri": "https://localhost:8080/",
          "height": 34
        },
        "outputId": "342d1bab-9da0-418f-fd1c-70b643884757"
      },
      "source": [
        "gain_obj.test(Test_No, testM, testX, MSE_test_loss, G_sample, sess, X, M, New_X)"
      ],
      "execution_count": 44,
      "outputs": [
        {
          "output_type": "stream",
          "text": [
            "Final Test RMSE: 0.1463377\n"
          ],
          "name": "stdout"
        }
      ]
    },
    {
      "cell_type": "code",
      "metadata": {
        "id": "R4w7mYK39Nar",
        "colab_type": "code",
        "colab": {
          "base_uri": "https://localhost:8080/",
          "height": 34
        },
        "outputId": "b28fb7aa-73b6-449e-9c61-0cc62b8cc3b3"
      },
      "source": [
        "X"
      ],
      "execution_count": 45,
      "outputs": [
        {
          "output_type": "execute_result",
          "data": {
            "text/plain": [
              "<tf.Tensor 'Placeholder_12:0' shape=(?, 17) dtype=float32>"
            ]
          },
          "metadata": {
            "tags": []
          },
          "execution_count": 45
        }
      ]
    },
    {
      "cell_type": "code",
      "metadata": {
        "id": "z5OkQv6-B7sz",
        "colab_type": "code",
        "colab": {
          "base_uri": "https://localhost:8080/",
          "height": 34
        },
        "outputId": "0ae2158a-51ed-41ef-d2ae-076cd431c3a5"
      },
      "source": [
        "New_X"
      ],
      "execution_count": 46,
      "outputs": [
        {
          "output_type": "execute_result",
          "data": {
            "text/plain": [
              "<tf.Tensor 'Placeholder_15:0' shape=(?, 17) dtype=float32>"
            ]
          },
          "metadata": {
            "tags": []
          },
          "execution_count": 46
        }
      ]
    },
    {
      "cell_type": "code",
      "metadata": {
        "id": "2hMshP_xDRsA",
        "colab_type": "code",
        "colab": {}
      },
      "source": [
        ""
      ],
      "execution_count": 0,
      "outputs": []
    }
  ]
}